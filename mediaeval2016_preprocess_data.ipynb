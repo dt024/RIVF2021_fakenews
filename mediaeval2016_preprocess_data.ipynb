{
  "nbformat": 4,
  "nbformat_minor": 0,
  "metadata": {
    "colab": {
      "name": "mediaeval2016_data.ipynb",
      "provenance": [],
      "toc_visible": true
    },
    "kernelspec": {
      "name": "python3",
      "display_name": "Python 3"
    }
  },
  "cells": [
    {
      "cell_type": "code",
      "metadata": {
        "id": "9a2dsAah_FUA"
      },
      "source": [
        "!pip uninstall googletrans\n",
        "!pip install googletrans==3.1.0a0\n"
      ],
      "execution_count": null,
      "outputs": []
    },
    {
      "cell_type": "code",
      "metadata": {
        "colab": {
          "base_uri": "https://localhost:8080/"
        },
        "id": "G_-nvUl7LkOA",
        "outputId": "45003e0d-edf3-48a1-ec15-6f06e8687254"
      },
      "source": [
        "!pip install google_trans_new"
      ],
      "execution_count": null,
      "outputs": [
        {
          "output_type": "stream",
          "text": [
            "Collecting google_trans_new\n",
            "  Downloading https://files.pythonhosted.org/packages/f9/7b/9f136106dc5824dc98185c97991d3cd9b53e70a197154dd49f7b899128f6/google_trans_new-1.1.9-py3-none-any.whl\n",
            "Installing collected packages: google-trans-new\n",
            "Successfully installed google-trans-new-1.1.9\n"
          ],
          "name": "stdout"
        }
      ]
    },
    {
      "cell_type": "code",
      "metadata": {
        "id": "WFm1HmLO-5XE"
      },
      "source": [
        "import pandas as pd\n",
        "import numpy as np\n",
        "from googletrans import Translator\n",
        "from google_trans_new import google_translator  \n",
        "import os\n",
        "import re"
      ],
      "execution_count": null,
      "outputs": []
    },
    {
      "cell_type": "code",
      "metadata": {
        "id": "rvPHnM5n_OAA"
      },
      "source": [
        "train_path = '/content/drive/MyDrive/mediaeval2016/train-ekphrasis.csv'\n",
        "dev_path = '/content/drive/MyDrive/mediaeval2016/dev-ekphrasis.csv'\n",
        "test_path = '/content/drive/MyDrive/mediaeval2016/test-ekphrasis.csv'"
      ],
      "execution_count": null,
      "outputs": []
    },
    {
      "cell_type": "code",
      "metadata": {
        "colab": {
          "base_uri": "https://localhost:8080/",
          "height": 563
        },
        "id": "lZ9q_H1-_ZG7",
        "outputId": "8bc710b2-6e46-4981-e189-7fabcbcdd33c"
      },
      "source": [
        "train = pd.read_csv(train_path)\n",
        "train.info()\n",
        "display(train.head())"
      ],
      "execution_count": null,
      "outputs": [
        {
          "output_type": "stream",
          "text": [
            "<class 'pandas.core.frame.DataFrame'>\n",
            "RangeIndex: 12376 entries, 0 to 12375\n",
            "Data columns (total 9 columns):\n",
            " #   Column        Non-Null Count  Dtype \n",
            "---  ------        --------------  ----- \n",
            " 0   post_id       12376 non-null  int64 \n",
            " 1   post_text     12376 non-null  object\n",
            " 2   user_id       12376 non-null  int64 \n",
            " 3   image_id(s)   12376 non-null  object\n",
            " 4   username      12376 non-null  object\n",
            " 5   timestamp     12376 non-null  object\n",
            " 6   label         12376 non-null  object\n",
            " 7   cleaned_text  12376 non-null  object\n",
            " 8   enc_label     12376 non-null  int64 \n",
            "dtypes: int64(3), object(6)\n",
            "memory usage: 870.3+ KB\n"
          ],
          "name": "stdout"
        },
        {
          "output_type": "display_data",
          "data": {
            "text/html": [
              "<div>\n",
              "<style scoped>\n",
              "    .dataframe tbody tr th:only-of-type {\n",
              "        vertical-align: middle;\n",
              "    }\n",
              "\n",
              "    .dataframe tbody tr th {\n",
              "        vertical-align: top;\n",
              "    }\n",
              "\n",
              "    .dataframe thead th {\n",
              "        text-align: right;\n",
              "    }\n",
              "</style>\n",
              "<table border=\"1\" class=\"dataframe\">\n",
              "  <thead>\n",
              "    <tr style=\"text-align: right;\">\n",
              "      <th></th>\n",
              "      <th>post_id</th>\n",
              "      <th>post_text</th>\n",
              "      <th>user_id</th>\n",
              "      <th>image_id(s)</th>\n",
              "      <th>username</th>\n",
              "      <th>timestamp</th>\n",
              "      <th>label</th>\n",
              "      <th>cleaned_text</th>\n",
              "      <th>enc_label</th>\n",
              "    </tr>\n",
              "  </thead>\n",
              "  <tbody>\n",
              "    <tr>\n",
              "      <th>0</th>\n",
              "      <td>264364835565883393</td>\n",
              "      <td>Dear mainstream media, Sandy fucked us up too....</td>\n",
              "      <td>366606850</td>\n",
              "      <td>sandyB_real_10</td>\n",
              "      <td>NevenaBK</td>\n",
              "      <td>Fri Nov 02 13:54:23 +0000 2012</td>\n",
              "      <td>real</td>\n",
              "      <td>Dear mainstream media , Sandy fucked us up too...</td>\n",
              "      <td>0</td>\n",
              "    </tr>\n",
              "    <tr>\n",
              "      <th>1</th>\n",
              "      <td>262962084801814528</td>\n",
              "      <td>Crazy pic taken in #NewYork today! #Hurricane ...</td>\n",
              "      <td>47332641</td>\n",
              "      <td>sandyA_fake_29</td>\n",
              "      <td>iChrisHarrison</td>\n",
              "      <td>Mon Oct 29 17:00:21 +0000 2012</td>\n",
              "      <td>fake</td>\n",
              "      <td>Crazy pic taken in #NewYork today ! #Hurricane...</td>\n",
              "      <td>1</td>\n",
              "    </tr>\n",
              "    <tr>\n",
              "      <th>2</th>\n",
              "      <td>264415086981038080</td>\n",
              "      <td>Hurricane A-rod #mlbmemes http://t.co/1cyx4OdM</td>\n",
              "      <td>63635369</td>\n",
              "      <td>sandyB_real_10</td>\n",
              "      <td>wiegman_tommy</td>\n",
              "      <td>Fri Nov 02 17:14:03 +0000 2012</td>\n",
              "      <td>real</td>\n",
              "      <td>Hurricane A - rod #mlbmemes &lt;url&gt;</td>\n",
              "      <td>0</td>\n",
              "    </tr>\n",
              "    <tr>\n",
              "      <th>3</th>\n",
              "      <td>591987644134887425</td>\n",
              "      <td>Nepal's historic Dharahara Tower collapses in ...</td>\n",
              "      <td>485782675</td>\n",
              "      <td>nepal_25</td>\n",
              "      <td>EliseArja</td>\n",
              "      <td>Sat Apr 25 15:30:27 +0000 2015</td>\n",
              "      <td>real</td>\n",
              "      <td>Nepal ' s historic Dharahara Tower collapses i...</td>\n",
              "      <td>0</td>\n",
              "    </tr>\n",
              "    <tr>\n",
              "      <th>4</th>\n",
              "      <td>263997194540032003</td>\n",
              "      <td>O furacão Sandy passou por Nova Iorque e destr...</td>\n",
              "      <td>354373541</td>\n",
              "      <td>sandyA_real_48</td>\n",
              "      <td>GALOUCURACORINT</td>\n",
              "      <td>Thu Nov 01 13:33:30 +0000 2012</td>\n",
              "      <td>real</td>\n",
              "      <td>Hurricane Sandy passed through New York and de...</td>\n",
              "      <td>0</td>\n",
              "    </tr>\n",
              "  </tbody>\n",
              "</table>\n",
              "</div>"
            ],
            "text/plain": [
              "              post_id  ... enc_label\n",
              "0  264364835565883393  ...         0\n",
              "1  262962084801814528  ...         1\n",
              "2  264415086981038080  ...         0\n",
              "3  591987644134887425  ...         0\n",
              "4  263997194540032003  ...         0\n",
              "\n",
              "[5 rows x 9 columns]"
            ]
          },
          "metadata": {
            "tags": []
          }
        }
      ]
    },
    {
      "cell_type": "code",
      "metadata": {
        "colab": {
          "base_uri": "https://localhost:8080/",
          "height": 563
        },
        "id": "JCYX0E0V_j0z",
        "outputId": "adb978c1-a28e-41b9-d02e-0edb9b5f4880"
      },
      "source": [
        "dev = pd.read_csv(dev_path)\n",
        "dev.info()\n",
        "display(dev.head())"
      ],
      "execution_count": null,
      "outputs": [
        {
          "output_type": "stream",
          "text": [
            "<class 'pandas.core.frame.DataFrame'>\n",
            "RangeIndex: 1386 entries, 0 to 1385\n",
            "Data columns (total 9 columns):\n",
            " #   Column        Non-Null Count  Dtype \n",
            "---  ------        --------------  ----- \n",
            " 0   post_id       1386 non-null   int64 \n",
            " 1   post_text     1386 non-null   object\n",
            " 2   user_id       1386 non-null   int64 \n",
            " 3   image_id(s)   1386 non-null   object\n",
            " 4   username      1386 non-null   object\n",
            " 5   timestamp     1386 non-null   object\n",
            " 6   label         1386 non-null   object\n",
            " 7   cleaned_text  1386 non-null   object\n",
            " 8   enc_label     1386 non-null   int64 \n",
            "dtypes: int64(3), object(6)\n",
            "memory usage: 97.6+ KB\n"
          ],
          "name": "stdout"
        },
        {
          "output_type": "display_data",
          "data": {
            "text/html": [
              "<div>\n",
              "<style scoped>\n",
              "    .dataframe tbody tr th:only-of-type {\n",
              "        vertical-align: middle;\n",
              "    }\n",
              "\n",
              "    .dataframe tbody tr th {\n",
              "        vertical-align: top;\n",
              "    }\n",
              "\n",
              "    .dataframe thead th {\n",
              "        text-align: right;\n",
              "    }\n",
              "</style>\n",
              "<table border=\"1\" class=\"dataframe\">\n",
              "  <thead>\n",
              "    <tr style=\"text-align: right;\">\n",
              "      <th></th>\n",
              "      <th>post_id</th>\n",
              "      <th>post_text</th>\n",
              "      <th>user_id</th>\n",
              "      <th>image_id(s)</th>\n",
              "      <th>username</th>\n",
              "      <th>timestamp</th>\n",
              "      <th>label</th>\n",
              "      <th>cleaned_text</th>\n",
              "      <th>enc_label</th>\n",
              "    </tr>\n",
              "  </thead>\n",
              "  <tbody>\n",
              "    <tr>\n",
              "      <th>0</th>\n",
              "      <td>263067887546281984</td>\n",
              "      <td>Hurricane #Sandy, by @time http://t.co/ixAeykg1</td>\n",
              "      <td>112749098</td>\n",
              "      <td>sandyA_real_22</td>\n",
              "      <td>amelieamaral</td>\n",
              "      <td>Tue Oct 30 00:00:46 +0000 2012</td>\n",
              "      <td>real</td>\n",
              "      <td>Hurricane #Sandy , by &lt;user&gt; &lt;url&gt;</td>\n",
              "      <td>0</td>\n",
              "    </tr>\n",
              "    <tr>\n",
              "      <th>1</th>\n",
              "      <td>263012006943158274</td>\n",
              "      <td>That shit cray.. #sandy http://t.co/PmI0RKvq</td>\n",
              "      <td>322326492</td>\n",
              "      <td>sandyA_fake_29</td>\n",
              "      <td>HoZe_B1</td>\n",
              "      <td>Mon Oct 29 20:18:43 +0000 2012</td>\n",
              "      <td>fake</td>\n",
              "      <td>That shit cray . . #sandy &lt;url&gt;</td>\n",
              "      <td>1</td>\n",
              "    </tr>\n",
              "    <tr>\n",
              "      <th>2</th>\n",
              "      <td>263218608790970369</td>\n",
              "      <td>The effects of hurricane sandy in Harlem New Y...</td>\n",
              "      <td>30071828</td>\n",
              "      <td>sandyA_real_20</td>\n",
              "      <td>AKidNameTraveee</td>\n",
              "      <td>Tue Oct 30 09:59:41 +0000 2012</td>\n",
              "      <td>real</td>\n",
              "      <td>The effects of hurricane sandy in Harlem New Y...</td>\n",
              "      <td>0</td>\n",
              "    </tr>\n",
              "    <tr>\n",
              "      <th>3</th>\n",
              "      <td>263098784236597248</td>\n",
              "      <td>O.O #Jesuuuu RT @Famosos_RD: Este tiburon no s...</td>\n",
              "      <td>180451067</td>\n",
              "      <td>sandyA_fake_32</td>\n",
              "      <td>edluis_11</td>\n",
              "      <td>Tue Oct 30 02:03:32 +0000 2012</td>\n",
              "      <td>fake</td>\n",
              "      <td>O . O #Jesuuuu RT &lt;user&gt; : Este tiburon no se ...</td>\n",
              "      <td>1</td>\n",
              "    </tr>\n",
              "    <tr>\n",
              "      <th>4</th>\n",
              "      <td>264017358262243328</td>\n",
              "      <td>\\\"@TuiterHits: IMPRESIONANTE: Las inundaciones...</td>\n",
              "      <td>419835315</td>\n",
              "      <td>sandyA_fake_12</td>\n",
              "      <td>elenitacanon15</td>\n",
              "      <td>Thu Nov 01 14:53:38 +0000 2012</td>\n",
              "      <td>fake</td>\n",
              "      <td>\\ \" &lt;user&gt; : IMPRESIONANTE : Las inundaciones ...</td>\n",
              "      <td>1</td>\n",
              "    </tr>\n",
              "  </tbody>\n",
              "</table>\n",
              "</div>"
            ],
            "text/plain": [
              "              post_id  ... enc_label\n",
              "0  263067887546281984  ...         0\n",
              "1  263012006943158274  ...         1\n",
              "2  263218608790970369  ...         0\n",
              "3  263098784236597248  ...         1\n",
              "4  264017358262243328  ...         1\n",
              "\n",
              "[5 rows x 9 columns]"
            ]
          },
          "metadata": {
            "tags": []
          }
        }
      ]
    },
    {
      "cell_type": "code",
      "metadata": {
        "colab": {
          "base_uri": "https://localhost:8080/",
          "height": 563
        },
        "id": "ryIQZaEz_vI2",
        "outputId": "189d446f-b960-4e90-83d1-77b5c2758fec"
      },
      "source": [
        "test = pd.read_csv(test_path)\n",
        "test.info()\n",
        "display(test.head())"
      ],
      "execution_count": null,
      "outputs": [
        {
          "output_type": "stream",
          "text": [
            "<class 'pandas.core.frame.DataFrame'>\n",
            "RangeIndex: 1117 entries, 0 to 1116\n",
            "Data columns (total 9 columns):\n",
            " #   Column        Non-Null Count  Dtype  \n",
            "---  ------        --------------  -----  \n",
            " 0   post_id       1117 non-null   int64  \n",
            " 1   post_text     1117 non-null   object \n",
            " 2   user_id       1117 non-null   float64\n",
            " 3   username      1117 non-null   object \n",
            " 4   image_id      1117 non-null   object \n",
            " 5   timestamp     1117 non-null   object \n",
            " 6   label         1117 non-null   object \n",
            " 7   cleaned_text  1117 non-null   object \n",
            " 8   enc_label     1117 non-null   int64  \n",
            "dtypes: float64(1), int64(2), object(6)\n",
            "memory usage: 78.7+ KB\n"
          ],
          "name": "stdout"
        },
        {
          "output_type": "display_data",
          "data": {
            "text/html": [
              "<div>\n",
              "<style scoped>\n",
              "    .dataframe tbody tr th:only-of-type {\n",
              "        vertical-align: middle;\n",
              "    }\n",
              "\n",
              "    .dataframe tbody tr th {\n",
              "        vertical-align: top;\n",
              "    }\n",
              "\n",
              "    .dataframe thead th {\n",
              "        text-align: right;\n",
              "    }\n",
              "</style>\n",
              "<table border=\"1\" class=\"dataframe\">\n",
              "  <thead>\n",
              "    <tr style=\"text-align: right;\">\n",
              "      <th></th>\n",
              "      <th>post_id</th>\n",
              "      <th>post_text</th>\n",
              "      <th>user_id</th>\n",
              "      <th>username</th>\n",
              "      <th>image_id</th>\n",
              "      <th>timestamp</th>\n",
              "      <th>label</th>\n",
              "      <th>cleaned_text</th>\n",
              "      <th>enc_label</th>\n",
              "    </tr>\n",
              "  </thead>\n",
              "  <tbody>\n",
              "    <tr>\n",
              "      <th>0</th>\n",
              "      <td>665333038944002048</td>\n",
              "      <td>Tristesse...😢🙏 \\n#Bataclan sold out, musiciens...</td>\n",
              "      <td>5.547267e+08</td>\n",
              "      <td>Louise_Officiel</td>\n",
              "      <td>attacks_paris_1</td>\n",
              "      <td>Sat Nov 14 00:58:52 +0000 2015</td>\n",
              "      <td>fake</td>\n",
              "      <td>Tristesse . . . 😢 🙏 #Bataclan sold out , music...</td>\n",
              "      <td>1</td>\n",
              "    </tr>\n",
              "    <tr>\n",
              "      <th>1</th>\n",
              "      <td>665324167785410560</td>\n",
              "      <td>RT @Proyecto40: #ÚltimaHora Espectacular fotog...</td>\n",
              "      <td>2.827010e+09</td>\n",
              "      <td>MarinoCarril</td>\n",
              "      <td>attacks_paris_1</td>\n",
              "      <td>Sat Nov 14 00:23:37 +0000 2015</td>\n",
              "      <td>fake</td>\n",
              "      <td>&lt;user&gt; : #ÚltimaHora Espectacular fotografía s...</td>\n",
              "      <td>1</td>\n",
              "    </tr>\n",
              "    <tr>\n",
              "      <th>2</th>\n",
              "      <td>665333370205765632</td>\n",
              "      <td>RT @Javivi1976: #Bataclan esta noche antes de ...</td>\n",
              "      <td>3.776037e+08</td>\n",
              "      <td>MireiaMaroto</td>\n",
              "      <td>attacks_paris_1</td>\n",
              "      <td>Sat Nov 14 01:00:11 +0000 2015</td>\n",
              "      <td>fake</td>\n",
              "      <td>&lt;user&gt; : #Bataclan esta noche antes de los ate...</td>\n",
              "      <td>1</td>\n",
              "    </tr>\n",
              "    <tr>\n",
              "      <th>3</th>\n",
              "      <td>665326188735295489</td>\n",
              "      <td>RT @Pizzigatas: El hombre tiene que establecer...</td>\n",
              "      <td>1.102841e+08</td>\n",
              "      <td>maria_cabrera</td>\n",
              "      <td>attacks_paris_1</td>\n",
              "      <td>Sat Nov 14 00:31:39 +0000 2015</td>\n",
              "      <td>fake</td>\n",
              "      <td>&lt;user&gt; : El hombre tiene que establecer un fin...</td>\n",
              "      <td>1</td>\n",
              "    </tr>\n",
              "    <tr>\n",
              "      <th>4</th>\n",
              "      <td>665389341141659648</td>\n",
              "      <td>🇫🇷 #Paris https://t.co/zjjRPC7USm</td>\n",
              "      <td>1.653118e+07</td>\n",
              "      <td>RaycMolina</td>\n",
              "      <td>attacks_paris_1</td>\n",
              "      <td>Sat Nov 14 04:42:35 +0000 2015</td>\n",
              "      <td>fake</td>\n",
              "      <td>🇫 🇷 #Paris &lt;url&gt;</td>\n",
              "      <td>1</td>\n",
              "    </tr>\n",
              "  </tbody>\n",
              "</table>\n",
              "</div>"
            ],
            "text/plain": [
              "              post_id  ... enc_label\n",
              "0  665333038944002048  ...         1\n",
              "1  665324167785410560  ...         1\n",
              "2  665333370205765632  ...         1\n",
              "3  665326188735295489  ...         1\n",
              "4  665389341141659648  ...         1\n",
              "\n",
              "[5 rows x 9 columns]"
            ]
          },
          "metadata": {
            "tags": []
          }
        }
      ]
    },
    {
      "cell_type": "markdown",
      "metadata": {
        "id": "Ahc4p4RaAQfP"
      },
      "source": [
        "# Pre-processing"
      ]
    },
    {
      "cell_type": "code",
      "metadata": {
        "colab": {
          "base_uri": "https://localhost:8080/"
        },
        "id": "lkWOQfCV_ypq",
        "outputId": "45a998cf-ec03-4196-a761-3fa96b7d2280"
      },
      "source": [
        "!pip install ekphrasis"
      ],
      "execution_count": null,
      "outputs": [
        {
          "output_type": "stream",
          "text": [
            "Requirement already satisfied: ekphrasis in /usr/local/lib/python3.6/dist-packages (0.5.1)\n",
            "Requirement already satisfied: ujson in /usr/local/lib/python3.6/dist-packages (from ekphrasis) (4.0.1)\n",
            "Requirement already satisfied: numpy in /usr/local/lib/python3.6/dist-packages (from ekphrasis) (1.19.4)\n",
            "Requirement already satisfied: matplotlib in /usr/local/lib/python3.6/dist-packages (from ekphrasis) (3.2.2)\n",
            "Requirement already satisfied: tqdm in /usr/local/lib/python3.6/dist-packages (from ekphrasis) (4.41.1)\n",
            "Requirement already satisfied: termcolor in /usr/local/lib/python3.6/dist-packages (from ekphrasis) (1.1.0)\n",
            "Requirement already satisfied: nltk in /usr/local/lib/python3.6/dist-packages (from ekphrasis) (3.2.5)\n",
            "Requirement already satisfied: ftfy in /usr/local/lib/python3.6/dist-packages (from ekphrasis) (5.8)\n",
            "Requirement already satisfied: colorama in /usr/local/lib/python3.6/dist-packages (from ekphrasis) (0.4.4)\n",
            "Requirement already satisfied: pyparsing!=2.0.4,!=2.1.2,!=2.1.6,>=2.0.1 in /usr/local/lib/python3.6/dist-packages (from matplotlib->ekphrasis) (2.4.7)\n",
            "Requirement already satisfied: kiwisolver>=1.0.1 in /usr/local/lib/python3.6/dist-packages (from matplotlib->ekphrasis) (1.3.1)\n",
            "Requirement already satisfied: cycler>=0.10 in /usr/local/lib/python3.6/dist-packages (from matplotlib->ekphrasis) (0.10.0)\n",
            "Requirement already satisfied: python-dateutil>=2.1 in /usr/local/lib/python3.6/dist-packages (from matplotlib->ekphrasis) (2.8.1)\n",
            "Requirement already satisfied: six in /usr/local/lib/python3.6/dist-packages (from nltk->ekphrasis) (1.15.0)\n",
            "Requirement already satisfied: wcwidth in /usr/local/lib/python3.6/dist-packages (from ftfy->ekphrasis) (0.2.5)\n"
          ],
          "name": "stdout"
        }
      ]
    },
    {
      "cell_type": "code",
      "metadata": {
        "colab": {
          "base_uri": "https://localhost:8080/"
        },
        "id": "bMrCqwHYIF0K",
        "outputId": "19910808-29c5-4793-d6a1-28f9b9d3a7b9"
      },
      "source": [
        "!pip install tweet-preprocessor"
      ],
      "execution_count": null,
      "outputs": [
        {
          "output_type": "stream",
          "text": [
            "Requirement already satisfied: tweet-preprocessor in /usr/local/lib/python3.6/dist-packages (0.6.0)\n"
          ],
          "name": "stdout"
        }
      ]
    },
    {
      "cell_type": "code",
      "metadata": {
        "id": "oXoZjDaAIJCy"
      },
      "source": [
        "import preprocessor as p\n"
      ],
      "execution_count": null,
      "outputs": []
    },
    {
      "cell_type": "code",
      "metadata": {
        "id": "VeR0o2LJ_3bL"
      },
      "source": [
        "from ekphrasis.classes.preprocessor import TextPreProcessor\n",
        "from ekphrasis.classes.tokenizer import SocialTokenizer\n",
        "from ekphrasis.dicts.emoticons import emoticons\n",
        "\n",
        "text_processor = TextPreProcessor(\n",
        "    # terms that will be normalized\n",
        "    normalize=['url', 'email', 'user'],\n",
        "    fix_html=True,  # fix HTML tokens\n",
        "    \n",
        "    # select a tokenizer. You can use SocialTokenizer, or pass your own\n",
        "    # the tokenizer, should take as input a string and return a list of tokens\n",
        "    tokenizer=SocialTokenizer(lowercase=False).tokenize,\n",
        "    \n",
        "    # list of dictionaries, for replacing tokens extracted from the text,\n",
        "    # with other expressions. You can pass more than one dictionaries.\n",
        "    dicts=[emoticons],\n",
        "    mode='fast'\n",
        ")\n"
      ],
      "execution_count": null,
      "outputs": []
    },
    {
      "cell_type": "code",
      "metadata": {
        "id": "9A55iabhFCgA"
      },
      "source": [
        "translator = google_translator()  "
      ],
      "execution_count": null,
      "outputs": []
    },
    {
      "cell_type": "code",
      "metadata": {
        "id": "D9LHZvrgEw9o"
      },
      "source": [
        "def preprocessing(text):\n",
        "  p.set_options(p.OPT.RESERVED) #Delete RT\n",
        "  text = p.clean(text)\n",
        "\n",
        "  text = re.sub(r'\\n', ' ', text)\n",
        "  text = re.sub(r'\\\\n', ' ', text)\n",
        "  text = re.sub(r'(&amp;|&gt;|&lt;)', \" \", text) #Delete some special words\n",
        "  text = \" \".join(text_processor.pre_process_doc(text))\n",
        "  text = re.sub(r\"\\s+\", \" \", text)\n",
        "  \n",
        "  return text  "
      ],
      "execution_count": null,
      "outputs": []
    },
    {
      "cell_type": "code",
      "metadata": {
        "colab": {
          "base_uri": "https://localhost:8080/",
          "height": 36
        },
        "id": "pWMq-TBRv2aY",
        "outputId": "e7a68ed3-745f-44cf-ae93-69d7d0ff49ab"
      },
      "source": [
        "translator.translate(preprocessing('RT @alien_vq: الفنانة السويسرية ميلو مواريه تتعرى إحتجاجا على التحرش في ألمانيا\\\\n\"احترمونا،نحن لسنا لعبة مجانية حتى ولو كنا عراة'),lang_tgt='en')"
      ],
      "execution_count": null,
      "outputs": [
        {
          "output_type": "execute_result",
          "data": {
            "application/vnd.google.colaboratory.intrinsic+json": {
              "type": "string"
            },
            "text/plain": [
              "'<user>: Swiss artist Milo Moire is undressed in protest against harassment in Germany \"Respect us, we are not a free game even if we are naked '"
            ]
          },
          "metadata": {
            "tags": []
          },
          "execution_count": 10
        }
      ]
    },
    {
      "cell_type": "code",
      "metadata": {
        "colab": {
          "base_uri": "https://localhost:8080/"
        },
        "id": "oUS27xSJIgQr",
        "outputId": "aca704ea-2c7e-4821-b550-1d5c7b31279f"
      },
      "source": [
        "import tqdm\n",
        "\n",
        "# train['cleaned_text'] = train['post_text']\n",
        "# dev['cleaned_text'] = dev['post_text']\n",
        "# test['cleaned_text'] = test['post_text']\n",
        "\n",
        "for i in tqdm.tqdm(range(len(train['post_text']))):\n",
        "  sent = train['cleaned_text'][i]\n",
        "  # sent = preprocessing(sent)\n",
        "  train['cleaned_text'][i] = translator.translate(sent,lang_tgt='en')\n",
        "\n",
        "for i in tqdm.tqdm(range(len(dev['post_text']))):\n",
        "  sent = dev['cleaned_text'][i]\n",
        "  # sent = preprocessing(sent)\n",
        "  dev['cleaned_text'][i] = translator.translate(sent,lang_tgt='en')\n",
        "\n",
        "for i in tqdm.tqdm(range(len(test['post_text']))):\n",
        "  sent = test['cleaned_text'][i]\n",
        "  # sent = preprocessing(sent)\n",
        "  test['cleaned_text'][i] = translator.translate(sent,lang_tgt='en')\n"
      ],
      "execution_count": null,
      "outputs": [
        {
          "output_type": "stream",
          "text": [
            "  0%|          | 0/12376 [00:00<?, ?it/s]/usr/local/lib/python3.6/dist-packages/ipykernel_launcher.py:10: SettingWithCopyWarning: \n",
            "A value is trying to be set on a copy of a slice from a DataFrame\n",
            "\n",
            "See the caveats in the documentation: https://pandas.pydata.org/pandas-docs/stable/user_guide/indexing.html#returning-a-view-versus-a-copy\n",
            "  # Remove the CWD from sys.path while we load stuff.\n",
            "100%|██████████| 12376/12376 [10:25<00:00, 19.77it/s]\n",
            "  0%|          | 0/1386 [00:00<?, ?it/s]/usr/local/lib/python3.6/dist-packages/ipykernel_launcher.py:15: SettingWithCopyWarning: \n",
            "A value is trying to be set on a copy of a slice from a DataFrame\n",
            "\n",
            "See the caveats in the documentation: https://pandas.pydata.org/pandas-docs/stable/user_guide/indexing.html#returning-a-view-versus-a-copy\n",
            "  from ipykernel import kernelapp as app\n",
            "100%|██████████| 1386/1386 [01:09<00:00, 20.05it/s]\n",
            "  0%|          | 0/1117 [00:00<?, ?it/s]/usr/local/lib/python3.6/dist-packages/ipykernel_launcher.py:20: SettingWithCopyWarning: \n",
            "A value is trying to be set on a copy of a slice from a DataFrame\n",
            "\n",
            "See the caveats in the documentation: https://pandas.pydata.org/pandas-docs/stable/user_guide/indexing.html#returning-a-view-versus-a-copy\n",
            "100%|██████████| 1117/1117 [01:07<00:00, 16.48it/s]\n"
          ],
          "name": "stderr"
        }
      ]
    },
    {
      "cell_type": "code",
      "metadata": {
        "id": "3dSGPXa1i_M0"
      },
      "source": [
        "train['enc_label'] = train['label']\n",
        "train['enc_label'] = train['enc_label'].apply(lambda x: 1 if x=='fake' else 0)\n",
        "dev['enc_label'] = dev['label']\n",
        "dev['enc_label'] = dev['enc_label'].apply(lambda x: 1 if x=='fake' else 0)\n",
        "test['enc_label'] = test['label']\n",
        "test['enc_label'] = test['enc_label'].apply(lambda x: 1 if x=='fake' else 0)"
      ],
      "execution_count": null,
      "outputs": []
    },
    {
      "cell_type": "code",
      "metadata": {
        "colab": {
          "base_uri": "https://localhost:8080/",
          "height": 819
        },
        "id": "fNtPETikI9Kg",
        "outputId": "7907d7b9-354b-4e16-e16d-c283a3b48a44"
      },
      "source": [
        "display(train.head()), display(dev.head()), display(test.head())"
      ],
      "execution_count": null,
      "outputs": [
        {
          "output_type": "display_data",
          "data": {
            "text/html": [
              "<div>\n",
              "<style scoped>\n",
              "    .dataframe tbody tr th:only-of-type {\n",
              "        vertical-align: middle;\n",
              "    }\n",
              "\n",
              "    .dataframe tbody tr th {\n",
              "        vertical-align: top;\n",
              "    }\n",
              "\n",
              "    .dataframe thead th {\n",
              "        text-align: right;\n",
              "    }\n",
              "</style>\n",
              "<table border=\"1\" class=\"dataframe\">\n",
              "  <thead>\n",
              "    <tr style=\"text-align: right;\">\n",
              "      <th></th>\n",
              "      <th>post_id</th>\n",
              "      <th>post_text</th>\n",
              "      <th>user_id</th>\n",
              "      <th>image_id(s)</th>\n",
              "      <th>username</th>\n",
              "      <th>timestamp</th>\n",
              "      <th>label</th>\n",
              "      <th>cleaned_text</th>\n",
              "      <th>enc_label</th>\n",
              "    </tr>\n",
              "  </thead>\n",
              "  <tbody>\n",
              "    <tr>\n",
              "      <th>0</th>\n",
              "      <td>264364835565883393</td>\n",
              "      <td>Dear mainstream media, Sandy fucked us up too....</td>\n",
              "      <td>366606850</td>\n",
              "      <td>sandyB_real_10</td>\n",
              "      <td>NevenaBK</td>\n",
              "      <td>Fri Nov 02 13:54:23 +0000 2012</td>\n",
              "      <td>real</td>\n",
              "      <td>Dear mainstream media , Sandy fucked us up too...</td>\n",
              "      <td>0</td>\n",
              "    </tr>\n",
              "    <tr>\n",
              "      <th>1</th>\n",
              "      <td>262962084801814528</td>\n",
              "      <td>Crazy pic taken in #NewYork today! #Hurricane ...</td>\n",
              "      <td>47332641</td>\n",
              "      <td>sandyA_fake_29</td>\n",
              "      <td>iChrisHarrison</td>\n",
              "      <td>Mon Oct 29 17:00:21 +0000 2012</td>\n",
              "      <td>fake</td>\n",
              "      <td>Crazy pic taken in #NewYork today ! #Hurricane...</td>\n",
              "      <td>1</td>\n",
              "    </tr>\n",
              "    <tr>\n",
              "      <th>2</th>\n",
              "      <td>264415086981038080</td>\n",
              "      <td>Hurricane A-rod #mlbmemes http://t.co/1cyx4OdM</td>\n",
              "      <td>63635369</td>\n",
              "      <td>sandyB_real_10</td>\n",
              "      <td>wiegman_tommy</td>\n",
              "      <td>Fri Nov 02 17:14:03 +0000 2012</td>\n",
              "      <td>real</td>\n",
              "      <td>Hurricane A - rod #mlbmemes &lt;url&gt;</td>\n",
              "      <td>0</td>\n",
              "    </tr>\n",
              "    <tr>\n",
              "      <th>3</th>\n",
              "      <td>591987644134887425</td>\n",
              "      <td>Nepal's historic Dharahara Tower collapses in ...</td>\n",
              "      <td>485782675</td>\n",
              "      <td>nepal_25</td>\n",
              "      <td>EliseArja</td>\n",
              "      <td>Sat Apr 25 15:30:27 +0000 2015</td>\n",
              "      <td>real</td>\n",
              "      <td>Nepal ' s historic Dharahara Tower collapses i...</td>\n",
              "      <td>0</td>\n",
              "    </tr>\n",
              "    <tr>\n",
              "      <th>4</th>\n",
              "      <td>263997194540032003</td>\n",
              "      <td>O furacão Sandy passou por Nova Iorque e destr...</td>\n",
              "      <td>354373541</td>\n",
              "      <td>sandyA_real_48</td>\n",
              "      <td>GALOUCURACORINT</td>\n",
              "      <td>Thu Nov 01 13:33:30 +0000 2012</td>\n",
              "      <td>real</td>\n",
              "      <td>Hurricane Sandy passed through New York and de...</td>\n",
              "      <td>0</td>\n",
              "    </tr>\n",
              "  </tbody>\n",
              "</table>\n",
              "</div>"
            ],
            "text/plain": [
              "              post_id  ... enc_label\n",
              "0  264364835565883393  ...         0\n",
              "1  262962084801814528  ...         1\n",
              "2  264415086981038080  ...         0\n",
              "3  591987644134887425  ...         0\n",
              "4  263997194540032003  ...         0\n",
              "\n",
              "[5 rows x 9 columns]"
            ]
          },
          "metadata": {
            "tags": []
          }
        },
        {
          "output_type": "display_data",
          "data": {
            "text/html": [
              "<div>\n",
              "<style scoped>\n",
              "    .dataframe tbody tr th:only-of-type {\n",
              "        vertical-align: middle;\n",
              "    }\n",
              "\n",
              "    .dataframe tbody tr th {\n",
              "        vertical-align: top;\n",
              "    }\n",
              "\n",
              "    .dataframe thead th {\n",
              "        text-align: right;\n",
              "    }\n",
              "</style>\n",
              "<table border=\"1\" class=\"dataframe\">\n",
              "  <thead>\n",
              "    <tr style=\"text-align: right;\">\n",
              "      <th></th>\n",
              "      <th>post_id</th>\n",
              "      <th>post_text</th>\n",
              "      <th>user_id</th>\n",
              "      <th>image_id(s)</th>\n",
              "      <th>username</th>\n",
              "      <th>timestamp</th>\n",
              "      <th>label</th>\n",
              "      <th>cleaned_text</th>\n",
              "      <th>enc_label</th>\n",
              "    </tr>\n",
              "  </thead>\n",
              "  <tbody>\n",
              "    <tr>\n",
              "      <th>0</th>\n",
              "      <td>263067887546281984</td>\n",
              "      <td>Hurricane #Sandy, by @time http://t.co/ixAeykg1</td>\n",
              "      <td>112749098</td>\n",
              "      <td>sandyA_real_22</td>\n",
              "      <td>amelieamaral</td>\n",
              "      <td>Tue Oct 30 00:00:46 +0000 2012</td>\n",
              "      <td>real</td>\n",
              "      <td>Hurricane #Sandy , by &lt;user&gt; &lt;url&gt;</td>\n",
              "      <td>0</td>\n",
              "    </tr>\n",
              "    <tr>\n",
              "      <th>1</th>\n",
              "      <td>263012006943158274</td>\n",
              "      <td>That shit cray.. #sandy http://t.co/PmI0RKvq</td>\n",
              "      <td>322326492</td>\n",
              "      <td>sandyA_fake_29</td>\n",
              "      <td>HoZe_B1</td>\n",
              "      <td>Mon Oct 29 20:18:43 +0000 2012</td>\n",
              "      <td>fake</td>\n",
              "      <td>That shit cray . . #sandy &lt;url&gt;</td>\n",
              "      <td>1</td>\n",
              "    </tr>\n",
              "    <tr>\n",
              "      <th>2</th>\n",
              "      <td>263218608790970369</td>\n",
              "      <td>The effects of hurricane sandy in Harlem New Y...</td>\n",
              "      <td>30071828</td>\n",
              "      <td>sandyA_real_20</td>\n",
              "      <td>AKidNameTraveee</td>\n",
              "      <td>Tue Oct 30 09:59:41 +0000 2012</td>\n",
              "      <td>real</td>\n",
              "      <td>The effects of hurricane sandy in Harlem New Y...</td>\n",
              "      <td>0</td>\n",
              "    </tr>\n",
              "    <tr>\n",
              "      <th>3</th>\n",
              "      <td>263098784236597248</td>\n",
              "      <td>O.O #Jesuuuu RT @Famosos_RD: Este tiburon no s...</td>\n",
              "      <td>180451067</td>\n",
              "      <td>sandyA_fake_32</td>\n",
              "      <td>edluis_11</td>\n",
              "      <td>Tue Oct 30 02:03:32 +0000 2012</td>\n",
              "      <td>fake</td>\n",
              "      <td>O. O #Jesuuuu RT &lt;user&gt;: This shark cannot com...</td>\n",
              "      <td>1</td>\n",
              "    </tr>\n",
              "    <tr>\n",
              "      <th>4</th>\n",
              "      <td>264017358262243328</td>\n",
              "      <td>\\\"@TuiterHits: IMPRESIONANTE: Las inundaciones...</td>\n",
              "      <td>419835315</td>\n",
              "      <td>sandyA_fake_12</td>\n",
              "      <td>elenitacanon15</td>\n",
              "      <td>Thu Nov 01 14:53:38 +0000 2012</td>\n",
              "      <td>fake</td>\n",
              "      <td>\\ \"&lt;user&gt;: AWESOME: Flooding from Hurricane Sa...</td>\n",
              "      <td>1</td>\n",
              "    </tr>\n",
              "  </tbody>\n",
              "</table>\n",
              "</div>"
            ],
            "text/plain": [
              "              post_id  ... enc_label\n",
              "0  263067887546281984  ...         0\n",
              "1  263012006943158274  ...         1\n",
              "2  263218608790970369  ...         0\n",
              "3  263098784236597248  ...         1\n",
              "4  264017358262243328  ...         1\n",
              "\n",
              "[5 rows x 9 columns]"
            ]
          },
          "metadata": {
            "tags": []
          }
        },
        {
          "output_type": "display_data",
          "data": {
            "text/html": [
              "<div>\n",
              "<style scoped>\n",
              "    .dataframe tbody tr th:only-of-type {\n",
              "        vertical-align: middle;\n",
              "    }\n",
              "\n",
              "    .dataframe tbody tr th {\n",
              "        vertical-align: top;\n",
              "    }\n",
              "\n",
              "    .dataframe thead th {\n",
              "        text-align: right;\n",
              "    }\n",
              "</style>\n",
              "<table border=\"1\" class=\"dataframe\">\n",
              "  <thead>\n",
              "    <tr style=\"text-align: right;\">\n",
              "      <th></th>\n",
              "      <th>post_id</th>\n",
              "      <th>post_text</th>\n",
              "      <th>user_id</th>\n",
              "      <th>username</th>\n",
              "      <th>image_id</th>\n",
              "      <th>timestamp</th>\n",
              "      <th>label</th>\n",
              "      <th>cleaned_text</th>\n",
              "      <th>enc_label</th>\n",
              "    </tr>\n",
              "  </thead>\n",
              "  <tbody>\n",
              "    <tr>\n",
              "      <th>0</th>\n",
              "      <td>665333038944002048</td>\n",
              "      <td>Tristesse...😢🙏 \\n#Bataclan sold out, musiciens...</td>\n",
              "      <td>5.547267e+08</td>\n",
              "      <td>Louise_Officiel</td>\n",
              "      <td>attacks_paris_1</td>\n",
              "      <td>Sat Nov 14 00:58:52 +0000 2015</td>\n",
              "      <td>fake</td>\n",
              "      <td>Sadness. . . 😢 🙏 #Bataclan sold out, public mu...</td>\n",
              "      <td>1</td>\n",
              "    </tr>\n",
              "    <tr>\n",
              "      <th>1</th>\n",
              "      <td>665324167785410560</td>\n",
              "      <td>RT @Proyecto40: #ÚltimaHora Espectacular fotog...</td>\n",
              "      <td>2.827010e+09</td>\n",
              "      <td>MarinoCarril</td>\n",
              "      <td>attacks_paris_1</td>\n",
              "      <td>Sat Nov 14 00:23:37 +0000 2015</td>\n",
              "      <td>fake</td>\n",
              "      <td>&lt;user&gt;: # UltimaHora Spectacular photograph ta...</td>\n",
              "      <td>1</td>\n",
              "    </tr>\n",
              "    <tr>\n",
              "      <th>2</th>\n",
              "      <td>665333370205765632</td>\n",
              "      <td>RT @Javivi1976: #Bataclan esta noche antes de ...</td>\n",
              "      <td>3.776037e+08</td>\n",
              "      <td>MireiaMaroto</td>\n",
              "      <td>attacks_paris_1</td>\n",
              "      <td>Sat Nov 14 01:00:11 +0000 2015</td>\n",
              "      <td>fake</td>\n",
              "      <td>&lt;user&gt;: #Bataclan tonight before the attacks. ...</td>\n",
              "      <td>1</td>\n",
              "    </tr>\n",
              "    <tr>\n",
              "      <th>3</th>\n",
              "      <td>665326188735295489</td>\n",
              "      <td>RT @Pizzigatas: El hombre tiene que establecer...</td>\n",
              "      <td>1.102841e+08</td>\n",
              "      <td>maria_cabrera</td>\n",
              "      <td>attacks_paris_1</td>\n",
              "      <td>Sat Nov 14 00:31:39 +0000 2015</td>\n",
              "      <td>fake</td>\n",
              "      <td>&lt;user&gt;: Man has to establish an end to the war...</td>\n",
              "      <td>1</td>\n",
              "    </tr>\n",
              "    <tr>\n",
              "      <th>4</th>\n",
              "      <td>665389341141659648</td>\n",
              "      <td>🇫🇷 #Paris https://t.co/zjjRPC7USm</td>\n",
              "      <td>1.653118e+07</td>\n",
              "      <td>RaycMolina</td>\n",
              "      <td>attacks_paris_1</td>\n",
              "      <td>Sat Nov 14 04:42:35 +0000 2015</td>\n",
              "      <td>fake</td>\n",
              "      <td>🇫 🇷 #Paris &lt;url&gt;</td>\n",
              "      <td>1</td>\n",
              "    </tr>\n",
              "  </tbody>\n",
              "</table>\n",
              "</div>"
            ],
            "text/plain": [
              "              post_id  ... enc_label\n",
              "0  665333038944002048  ...         1\n",
              "1  665324167785410560  ...         1\n",
              "2  665333370205765632  ...         1\n",
              "3  665326188735295489  ...         1\n",
              "4  665389341141659648  ...         1\n",
              "\n",
              "[5 rows x 9 columns]"
            ]
          },
          "metadata": {
            "tags": []
          }
        },
        {
          "output_type": "execute_result",
          "data": {
            "text/plain": [
              "(None, None, None)"
            ]
          },
          "metadata": {
            "tags": []
          },
          "execution_count": 12
        }
      ]
    },
    {
      "cell_type": "code",
      "metadata": {
        "id": "i5eeHqN-JQZs"
      },
      "source": [
        "train.to_csv('/content/drive/MyDrive/mediaeval2016/train-ekphrasis.csv',index=False)\n",
        "dev.to_csv('/content/drive/MyDrive/mediaeval2016/dev-ekphrasis.csv',index=False)\n",
        "test.to_csv('/content/drive/MyDrive/mediaeval2016/test-ekphrasis.csv',index=False)"
      ],
      "execution_count": null,
      "outputs": []
    },
    {
      "cell_type": "code",
      "metadata": {
        "colab": {
          "base_uri": "https://localhost:8080/",
          "height": 36
        },
        "id": "ap19WAXbNyaZ",
        "outputId": "43a14c50-768e-4140-c3ff-4934969eed84"
      },
      "source": [
        "test.iloc[739]['cleaned_text']"
      ],
      "execution_count": null,
      "outputs": [
        {
          "output_type": "execute_result",
          "data": {
            "application/vnd.google.colaboratory.intrinsic+json": {
              "type": "string"
            },
            "text/plain": [
              "'<user> : الفنانة السويسرية ميلو مواريه تتعرى إحتجاجا على التحرش في ألمانيا \" احترمونا ، نحن لسنا لعبة مجانية حتى ولو كنا عراة ! \" https :// t …'"
            ]
          },
          "metadata": {
            "tags": []
          },
          "execution_count": 136
        }
      ]
    },
    {
      "cell_type": "code",
      "metadata": {
        "colab": {
          "base_uri": "https://localhost:8080/",
          "height": 36
        },
        "id": "jVh5LrbjkZZl",
        "outputId": "a883ff8c-0a85-4803-dfc6-e07ef74bfabd"
      },
      "source": [
        "translator.translate(test.iloc[2]['post_text']).text"
      ],
      "execution_count": null,
      "outputs": [
        {
          "output_type": "execute_result",
          "data": {
            "application/vnd.google.colaboratory.intrinsic+json": {
              "type": "string"
            },
            "text/plain": [
              "'RT @Javivi1976: #Bataclan esta noche antes de los atentados. @playradiovlc https://t.co/ThfGdHtIjg'"
            ]
          },
          "metadata": {
            "tags": []
          },
          "execution_count": 143
        }
      ]
    },
    {
      "cell_type": "code",
      "metadata": {
        "id": "cxuxBDDBoQi6"
      },
      "source": [
        "preprocessing(test.iloc[739]['post_text'])"
      ],
      "execution_count": null,
      "outputs": []
    },
    {
      "cell_type": "code",
      "metadata": {
        "id": "m9xvGSXFpv15"
      },
      "source": [
        ""
      ],
      "execution_count": null,
      "outputs": []
    }
  ]
}